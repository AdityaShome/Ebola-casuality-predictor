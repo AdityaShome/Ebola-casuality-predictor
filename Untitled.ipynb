{
 "cells": [
  {
   "cell_type": "code",
   "execution_count": 63,
   "id": "e6a7143a-7753-4a07-828b-0fe82775fe91",
   "metadata": {},
   "outputs": [],
   "source": [
    "import pandas as pd\n",
    "import numpy as np\n",
    "from matplotlib import pyplot as plt\n",
    "from sklearn.linear_model import LinearRegression\n",
    "from sklearn.model_selection import train_test_split\n",
    "%matplotlib inline\n",
    "import matplotlib \n",
    "matplotlib.rcParams[\"figure.figsize\"] = (20,10)"
   ]
  },
  {
   "cell_type": "code",
   "execution_count": 7,
   "id": "6e02bed9-ed04-48b2-a7af-7179d915a754",
   "metadata": {},
   "outputs": [
    {
     "data": {
      "text/html": [
       "<div>\n",
       "<style scoped>\n",
       "    .dataframe tbody tr th:only-of-type {\n",
       "        vertical-align: middle;\n",
       "    }\n",
       "\n",
       "    .dataframe tbody tr th {\n",
       "        vertical-align: top;\n",
       "    }\n",
       "\n",
       "    .dataframe thead th {\n",
       "        text-align: right;\n",
       "    }\n",
       "</style>\n",
       "<table border=\"1\" class=\"dataframe\">\n",
       "  <thead>\n",
       "    <tr style=\"text-align: right;\">\n",
       "      <th></th>\n",
       "      <th>Lat</th>\n",
       "      <th>Long_</th>\n",
       "      <th>Deaths</th>\n",
       "      <th>Case_Fatality_Ratio</th>\n",
       "    </tr>\n",
       "  </thead>\n",
       "  <tbody>\n",
       "    <tr>\n",
       "      <th>0</th>\n",
       "      <td>33.93911</td>\n",
       "      <td>67.709953</td>\n",
       "      <td>NaN</td>\n",
       "      <td>3.779217</td>\n",
       "    </tr>\n",
       "    <tr>\n",
       "      <th>1</th>\n",
       "      <td>41.15330</td>\n",
       "      <td>20.168300</td>\n",
       "      <td>NaN</td>\n",
       "      <td>1.077234</td>\n",
       "    </tr>\n",
       "    <tr>\n",
       "      <th>2</th>\n",
       "      <td>28.03390</td>\n",
       "      <td>1.659600</td>\n",
       "      <td>NaN</td>\n",
       "      <td>2.536905</td>\n",
       "    </tr>\n",
       "    <tr>\n",
       "      <th>3</th>\n",
       "      <td>42.50630</td>\n",
       "      <td>1.521800</td>\n",
       "      <td>165.0</td>\n",
       "      <td>0.345543</td>\n",
       "    </tr>\n",
       "    <tr>\n",
       "      <th>4</th>\n",
       "      <td>-11.20270</td>\n",
       "      <td>17.873900</td>\n",
       "      <td>NaN</td>\n",
       "      <td>1.836434</td>\n",
       "    </tr>\n",
       "  </tbody>\n",
       "</table>\n",
       "</div>"
      ],
      "text/plain": [
       "        Lat      Long_  Deaths  Case_Fatality_Ratio\n",
       "0  33.93911  67.709953     NaN             3.779217\n",
       "1  41.15330  20.168300     NaN             1.077234\n",
       "2  28.03390   1.659600     NaN             2.536905\n",
       "3  42.50630   1.521800   165.0             0.345543\n",
       "4 -11.20270  17.873900     NaN             1.836434"
      ]
     },
     "execution_count": 7,
     "metadata": {},
     "output_type": "execute_result"
    }
   ],
   "source": [
    "df1 = pd.read_excel(\"train_data.xlsx\")\n",
    "df1.head()"
   ]
  },
  {
   "cell_type": "code",
   "execution_count": 9,
   "id": "c6b5597a-cab4-4d98-84d4-8c36a900122d",
   "metadata": {},
   "outputs": [
    {
     "data": {
      "text/plain": [
       "(4016, 4)"
      ]
     },
     "execution_count": 9,
     "metadata": {},
     "output_type": "execute_result"
    }
   ],
   "source": [
    "df1.shape"
   ]
  },
  {
   "cell_type": "code",
   "execution_count": 11,
   "id": "d400e175-5ff2-460a-b302-c0831884fe37",
   "metadata": {},
   "outputs": [
    {
     "data": {
      "text/plain": [
       "Index(['Lat', 'Long_', 'Deaths', 'Case_Fatality_Ratio'], dtype='object')"
      ]
     },
     "execution_count": 11,
     "metadata": {},
     "output_type": "execute_result"
    }
   ],
   "source": [
    "df1.columns"
   ]
  },
  {
   "cell_type": "code",
   "execution_count": 21,
   "id": "d056aa6f-438a-4dde-912e-88394ac0615c",
   "metadata": {},
   "outputs": [
    {
     "name": "stdout",
     "output_type": "stream",
     "text": [
      "Index(['Lat', 'Long_', 'Deaths', 'Case_Fatality_Ratio'], dtype='object')\n"
     ]
    }
   ],
   "source": [
    "print(df1.columns)"
   ]
  },
  {
   "cell_type": "code",
   "execution_count": 23,
   "id": "c549b833-92a8-4312-88b9-f680772b9f43",
   "metadata": {},
   "outputs": [],
   "source": [
    "df1.columns = df1.columns.str.strip()"
   ]
  },
  {
   "cell_type": "code",
   "execution_count": 25,
   "id": "30e80f68-bb49-4999-8402-9235a6222465",
   "metadata": {},
   "outputs": [
    {
     "data": {
      "text/plain": [
       "array([ nan, 165.,   0., 146., 138.,  84., 163.,  21.,  38.,   1.,  22.,\n",
       "         7.,  82.,  32., 113., 194.,   2.,  20.,   9.,   6.,  15.,  23.,\n",
       "         4.,   5.,  61.,  11.,   3.,  37., 105., 156.,  64., 161.,  28.,\n",
       "        13., 189.,  74., 183., 103., 188.,  63., 176., 129.,  52., 151.,\n",
       "         8., 193.,  88., 197., 158.,  31.,  17.,  58.,  65.,  39.,  89.,\n",
       "       191.,  53.,  45.,  46., 119.,  29., 121.,  77., 172., 126., 153.,\n",
       "       170.,  86., 125.,  12., 108.,  54., 130., 107.,  90.,  71.,  75.,\n",
       "        62., 178.,  98., 150., 171., 110.,  79., 180.,  80., 115., 157.,\n",
       "        87.,  49., 120., 141.,  78., 100.,  55.,  60.,  48., 140.,  47.,\n",
       "        10., 166.,  27.,  34., 187., 155.,  93., 198.,  57.,  14., 142.,\n",
       "        40., 104.,  43.,  99.,  97.,  30.,  67.,  70.,  94.,  42., 160.,\n",
       "        66.,  33., 117.,  96., 135.,  56., 149., 137., 132.,  95.,  68.,\n",
       "        16.,  50., 128.,  19.,  51., 145., 136.,  25., 164., 169., 195.,\n",
       "       114., 123.,  81., 109., 177., 144., 168., 112.,  91., 184., 122.,\n",
       "       111.,  76., 118.,  36., 148., 143., 106., 179., 124.,  69.,  73.,\n",
       "        72., 173.,  44.,  85.,  92., 133., 185.,  41., 101., 181., 134.,\n",
       "        24., 182.,  83., 159., 116., 167.,  26.,  35., 139.,  18., 131.,\n",
       "       186., 162.,  59., 174., 154., 199., 200., 192., 127., 196., 147.,\n",
       "       152., 102., 190., 175.])"
      ]
     },
     "execution_count": 25,
     "metadata": {},
     "output_type": "execute_result"
    }
   ],
   "source": [
    "df1['Deaths'].unique()"
   ]
  },
  {
   "cell_type": "code",
   "execution_count": 27,
   "id": "42d46d17-e676-41c1-bd31-bf72ed24f73e",
   "metadata": {},
   "outputs": [
    {
     "data": {
      "text/plain": [
       "Deaths\n",
       "0.0      168\n",
       "12.0      27\n",
       "32.0      27\n",
       "13.0      26\n",
       "9.0       26\n",
       "        ... \n",
       "195.0      3\n",
       "152.0      3\n",
       "186.0      2\n",
       "190.0      1\n",
       "175.0      1\n",
       "Name: count, Length: 201, dtype: int64"
      ]
     },
     "execution_count": 27,
     "metadata": {},
     "output_type": "execute_result"
    }
   ],
   "source": [
    "df1['Deaths'].value_counts()"
   ]
  },
  {
   "cell_type": "code",
   "execution_count": 31,
   "id": "11a962c6-fa42-4356-b642-94d71c0b2ea6",
   "metadata": {},
   "outputs": [
    {
     "data": {
      "text/plain": [
       "Lat                      91\n",
       "Long_                    91\n",
       "Deaths                 1558\n",
       "Case_Fatality_Ratio      44\n",
       "dtype: int64"
      ]
     },
     "execution_count": 31,
     "metadata": {},
     "output_type": "execute_result"
    }
   ],
   "source": [
    "df1.isnull().sum()"
   ]
  },
  {
   "cell_type": "code",
   "execution_count": 35,
   "id": "d224379c-da8e-479b-acdc-6a5832ef2e61",
   "metadata": {},
   "outputs": [
    {
     "data": {
      "text/plain": [
       "(4016, 4)"
      ]
     },
     "execution_count": 35,
     "metadata": {},
     "output_type": "execute_result"
    }
   ],
   "source": [
    "df1.shape"
   ]
  },
  {
   "cell_type": "code",
   "execution_count": 37,
   "id": "8c673a3b-ec98-462e-b3eb-f5cb8c68c12e",
   "metadata": {},
   "outputs": [],
   "source": [
    "df3 = df1.dropna()"
   ]
  },
  {
   "cell_type": "code",
   "execution_count": 39,
   "id": "aa00a1c7-09fc-49f2-a21a-3b48cfe8bacf",
   "metadata": {},
   "outputs": [
    {
     "data": {
      "text/plain": [
       "Lat                    0\n",
       "Long_                  0\n",
       "Deaths                 0\n",
       "Case_Fatality_Ratio    0\n",
       "dtype: int64"
      ]
     },
     "execution_count": 39,
     "metadata": {},
     "output_type": "execute_result"
    }
   ],
   "source": [
    "df3.isnull().sum()"
   ]
  },
  {
   "cell_type": "code",
   "execution_count": 41,
   "id": "f99fe4ca-4513-4ea0-8d01-3fd8aafa4cf6",
   "metadata": {},
   "outputs": [
    {
     "data": {
      "text/plain": [
       "(2376, 4)"
      ]
     },
     "execution_count": 41,
     "metadata": {},
     "output_type": "execute_result"
    }
   ],
   "source": [
    "df3.shape"
   ]
  },
  {
   "cell_type": "code",
   "execution_count": 45,
   "id": "d4b60a16-ebed-4ab6-b705-ae4c2904454b",
   "metadata": {},
   "outputs": [
    {
     "data": {
      "image/png": "[encoded data removed]",
      "text/plain": [
       "<Figure size 1500x1500 with 4 Axes>"
      ]
     },
     "metadata": {},
     "output_type": "display_data"
    }
   ],
   "source": [
    "df1.hist(bins=50, figsize=(15,15))\n",
    "plt.show()"
   ]
  },
  {
   "cell_type": "code",
   "execution_count": 53,
   "id": "928d9ffc-7420-40e0-937b-117db7745e52",
   "metadata": {},
   "outputs": [],
   "source": [
    "df = pd.DataFrame(df3)"
   ]
  },
  {
   "cell_type": "code",
   "execution_count": 57,
   "id": "27311a40-3101-4480-ba9c-e53837157a3c",
   "metadata": {},
   "outputs": [],
   "source": [
    "X = df[['Lat', 'Long_']]\n",
    "Y = df['Deaths']"
   ]
  },
  {
   "cell_type": "code",
   "execution_count": 69,
   "id": "3738f361-f2f3-4514-a38b-2245b7ad1980",
   "metadata": {},
   "outputs": [
    {
     "data": {
      "text/html": [
       "<div>\n",
       "<style scoped>\n",
       "    .dataframe tbody tr th:only-of-type {\n",
       "        vertical-align: middle;\n",
       "    }\n",
       "\n",
       "    .dataframe tbody tr th {\n",
       "        vertical-align: top;\n",
       "    }\n",
       "\n",
       "    .dataframe thead th {\n",
       "        text-align: right;\n",
       "    }\n",
       "</style>\n",
       "<table border=\"1\" class=\"dataframe\">\n",
       "  <thead>\n",
       "    <tr style=\"text-align: right;\">\n",
       "      <th></th>\n",
       "      <th>Lat</th>\n",
       "      <th>Long_</th>\n",
       "    </tr>\n",
       "  </thead>\n",
       "  <tbody>\n",
       "    <tr>\n",
       "      <th>0</th>\n",
       "      <td>41.1533</td>\n",
       "      <td>20.1683</td>\n",
       "    </tr>\n",
       "    <tr>\n",
       "      <th>1</th>\n",
       "      <td>-71.9499</td>\n",
       "      <td>23.3470</td>\n",
       "    </tr>\n",
       "    <tr>\n",
       "      <th>2</th>\n",
       "      <td>-35.4735</td>\n",
       "      <td>149.0124</td>\n",
       "    </tr>\n",
       "    <tr>\n",
       "      <th>3</th>\n",
       "      <td>-34.9285</td>\n",
       "      <td>138.6007</td>\n",
       "    </tr>\n",
       "    <tr>\n",
       "      <th>4</th>\n",
       "      <td>47.5162</td>\n",
       "      <td>14.5501</td>\n",
       "    </tr>\n",
       "  </tbody>\n",
       "</table>\n",
       "</div>"
      ],
      "text/plain": [
       "       Lat     Long_\n",
       "0  41.1533   20.1683\n",
       "1 -71.9499   23.3470\n",
       "2 -35.4735  149.0124\n",
       "3 -34.9285  138.6007\n",
       "4  47.5162   14.5501"
      ]
     },
     "execution_count": 69,
     "metadata": {},
     "output_type": "execute_result"
    }
   ],
   "source": [
    "dttf1 = pd.read_excel(\"test_points.xlsx\")\n",
    "dttf1.head()"
   ]
  },
  {
   "cell_type": "code",
   "execution_count": 71,
   "id": "3b88af11-925f-4550-93ac-d227d0d5c2b3",
   "metadata": {},
   "outputs": [],
   "source": [
    "X2 = df[['Lat', 'Long_']]"
   ]
  },
  {
   "cell_type": "code",
   "execution_count": 67,
   "id": "3936b871-3fb0-415d-86ab-3ae4d4492d3d",
   "metadata": {},
   "outputs": [
    {
     "data": {
      "text/html": [
       "<style>#sk-container-id-1 {color: black;background-color: white;}#sk-container-id-1 pre{padding: 0;}#sk-container-id-1 div.sk-toggleable {background-color: white;}#sk-container-id-1 label.sk-toggleable__label {cursor: pointer;display: block;width: 100%;margin-bottom: 0;padding: 0.3em;box-sizing: border-box;text-align: center;}#sk-container-id-1 label.sk-toggleable__label-arrow:before {content: \"▸\";float: left;margin-right: 0.25em;color: #696969;}#sk-container-id-1 label.sk-toggleable__label-arrow:hover:before {color: black;}#sk-container-id-1 div.sk-estimator:hover label.sk-toggleable__label-arrow:before {color: black;}#sk-container-id-1 div.sk-toggleable__content {max-height: 0;max-width: 0;overflow: hidden;text-align: left;background-color: #f0f8ff;}#sk-container-id-1 div.sk-toggleable__content pre {margin: 0.2em;color: black;border-radius: 0.25em;background-color: #f0f8ff;}#sk-container-id-1 input.sk-toggleable__control:checked~div.sk-toggleable__content {max-height: 200px;max-width: 100%;overflow: auto;}#sk-container-id-1 input.sk-toggleable__control:checked~label.sk-toggleable__label-arrow:before {content: \"▾\";}#sk-container-id-1 div.sk-estimator input.sk-toggleable__control:checked~label.sk-toggleable__label {background-color: #d4ebff;}#sk-container-id-1 div.sk-label input.sk-toggleable__control:checked~label.sk-toggleable__label {background-color: #d4ebff;}#sk-container-id-1 input.sk-hidden--visually {border: 0;clip: rect(1px 1px 1px 1px);clip: rect(1px, 1px, 1px, 1px);height: 1px;margin: -1px;overflow: hidden;padding: 0;position: absolute;width: 1px;}#sk-container-id-1 div.sk-estimator {font-family: monospace;background-color: #f0f8ff;border: 1px dotted black;border-radius: 0.25em;box-sizing: border-box;margin-bottom: 0.5em;}#sk-container-id-1 div.sk-estimator:hover {background-color: #d4ebff;}#sk-container-id-1 div.sk-parallel-item::after {content: \"\";width: 100%;border-bottom: 1px solid gray;flex-grow: 1;}#sk-container-id-1 div.sk-label:hover label.sk-toggleable__label {background-color: #d4ebff;}#sk-container-id-1 div.sk-serial::before {content: \"\";position: absolute;border-left: 1px solid gray;box-sizing: border-box;top: 0;bottom: 0;left: 50%;z-index: 0;}#sk-container-id-1 div.sk-serial {display: flex;flex-direction: column;align-items: center;background-color: white;padding-right: 0.2em;padding-left: 0.2em;position: relative;}#sk-container-id-1 div.sk-item {position: relative;z-index: 1;}#sk-container-id-1 div.sk-parallel {display: flex;align-items: stretch;justify-content: center;background-color: white;position: relative;}#sk-container-id-1 div.sk-item::before, #sk-container-id-1 div.sk-parallel-item::before {content: \"\";position: absolute;border-left: 1px solid gray;box-sizing: border-box;top: 0;bottom: 0;left: 50%;z-index: -1;}#sk-container-id-1 div.sk-parallel-item {display: flex;flex-direction: column;z-index: 1;position: relative;background-color: white;}#sk-container-id-1 div.sk-parallel-item:first-child::after {align-self: flex-end;width: 50%;}#sk-container-id-1 div.sk-parallel-item:last-child::after {align-self: flex-start;width: 50%;}#sk-container-id-1 div.sk-parallel-item:only-child::after {width: 0;}#sk-container-id-1 div.sk-dashed-wrapped {border: 1px dashed gray;margin: 0 0.4em 0.5em 0.4em;box-sizing: border-box;padding-bottom: 0.4em;background-color: white;}#sk-container-id-1 div.sk-label label {font-family: monospace;font-weight: bold;display: inline-block;line-height: 1.2em;}#sk-container-id-1 div.sk-label-container {text-align: center;}#sk-container-id-1 div.sk-container {/* jupyter's `normalize.less` sets `[hidden] { display: none; }` but bootstrap.min.css set `[hidden] { display: none !important; }` so we also need the `!important` here to be able to override the default hidden behavior on the sphinx rendered scikit-learn.org. See: https://github.com/scikit-learn/scikit-learn/issues/21755 */display: inline-block !important;position: relative;}#sk-container-id-1 div.sk-text-repr-fallback {display: none;}</style><div id=\"sk-container-id-1\" class=\"sk-top-container\"><div class=\"sk-text-repr-fallback\"><pre>LinearRegression()</pre><b>In a Jupyter environment, please rerun this cell to show the HTML representation or trust the notebook. <br />On GitHub, the HTML representation is unable to render, please try loading this page with nbviewer.org.</b></div><div class=\"sk-container\" hidden><div class=\"sk-item\"><div class=\"sk-estimator sk-toggleable\"><input class=\"sk-toggleable__control sk-hidden--visually\" id=\"sk-estimator-id-1\" type=\"checkbox\" checked><label for=\"sk-estimator-id-1\" class=\"sk-toggleable__label sk-toggleable__label-arrow\">LinearRegression</label><div class=\"sk-toggleable__content\"><pre>LinearRegression()</pre></div></div></div></div></div>"
      ],
      "text/plain": [
       "LinearRegression()"
      ]
     },
     "execution_count": 67,
     "metadata": {},
     "output_type": "execute_result"
    }
   ],
   "source": [
    "model = LinearRegression()\n",
    "model.fit(X,Y)"
   ]
  },
  {
   "cell_type": "code",
   "execution_count": 75,
   "id": "02e192be-ff6d-4e2e-af06-ef1020b4cee3",
   "metadata": {},
   "outputs": [
    {
     "name": "stdout",
     "output_type": "stream",
     "text": [
      "Predicted House Price: [71.96532202 79.87984073 74.17151393 ... 73.91087616 74.95621127\n",
      " 71.39575456]\n"
     ]
    }
   ],
   "source": [
    "predictions = model.predict(X2)\n",
    "print(f\"Predicted House Price: {predictions}\")"
   ]
  },
  {
   "cell_type": "code",
   "execution_count": 77,
   "id": "23a1aedb-3a04-41c0-83da-bb200da5737f",
   "metadata": {},
   "outputs": [],
   "source": [
    "import pickle\n",
    "\n",
    "# Assuming 'model' is your trained model\n",
    "with open('model.pkl', 'wb') as file:\n",
    "    pickle.dump(model, file)"
   ]
  },
  {
   "cell_type": "code",
   "execution_count": null,
   "id": "5a226f17-15fd-401a-b30b-9e23f0ea9d37",
   "metadata": {},
   "outputs": [],
   "source": []
  }
 ],
 "metadata": {
  "kernelspec": {
   "display_name": "Python 3 (ipykernel)",
   "language": "python",
   "name": "python3"
  },
  "language_info": {
   "codemirror_mode": {
    "name": "ipython",
    "version": 3
   },
   "file_extension": ".py",
   "mimetype": "text/x-python",
   "name": "python",
   "nbconvert_exporter": "python",
   "pygments_lexer": "ipython3",
   "version": "3.11.7"
  }
 },
 "nbformat": 4,
 "nbformat_minor": 5
}
